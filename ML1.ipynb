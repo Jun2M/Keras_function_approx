{
 "cells": [
  {
   "cell_type": "code",
   "execution_count": null,
   "metadata": {},
   "outputs": [],
   "source": [
    "import tensorflow as tf\n",
    "import tensorflow.keras as keras\n",
    "import numpy as np\n",
    "import matplotlib.pyplot as plt\n",
    "import datetime\n",
    "import kerastuner as kt"
   ]
  },
  {
   "cell_type": "code",
   "execution_count": null,
   "metadata": {},
   "outputs": [],
   "source": [
    "# Problem definition\n",
    "\n",
    "def f(x):\n",
    "    return np.log(x)\n",
    "\n",
    "\n",
    "Domain = (0.5, 10)\n",
    "# Generate training data\n",
    "x_train = np.linspace(*Domain, 10000)\n",
    "y_train = f(x_train)\n",
    "\n",
    "\n",
    "# Generate test data\n",
    "x_test = np.linspace(*Domain, 1000)\n",
    "y_test = f(x_test)"
   ]
  },
  {
   "cell_type": "code",
   "execution_count": null,
   "metadata": {},
   "outputs": [],
   "source": [
    "# Maually define the model\n",
    "\n",
    "def create_model(layers, activation = 'relu', optimizer = 'adam', loss = 'mse'):\n",
    "    model = keras.Sequential()\n",
    "    for i, nodes in enumerate(layers):\n",
    "        if i == 0:\n",
    "            model.add(keras.layers.Dense(nodes, activation = activation, input_shape = (1,)))\n",
    "        else:\n",
    "            model.add(keras.layers.Dense(nodes, activation = activation))\n",
    "    model.add(keras.layers.Dense(1, activation = 'linear'))\n",
    "    model.compile(optimizer = optimizer, loss = loss, metrics = ['mse'])\n",
    "    return model\n",
    "\n",
    "model = create_model([10, 10, 10, 10, 10, 10, 10, 10, 10, 10])"
   ]
  },
  {
   "cell_type": "code",
   "execution_count": null,
   "metadata": {},
   "outputs": [],
   "source": [
    "def create_hypermodel(hp):\n",
    "    LR = hp.Choice('learning_rate', [0.005, 0.001, 0.0005, 0.0001])\n",
    "    # DROPOUT_RATE = hp.Float('dropout_rate', 0.0, 0.5, step=0.1, default=0.0)\n",
    "    NUM_DIMS = hp.Int('num_dims', 16, 64, step=8)\n",
    "    NUM_LAYERS = hp.Int('num_layers', 2, 16, step=2)\n",
    "\n",
    "    model = keras.Sequential()\n",
    "    model.add(keras.layers.Dense(NUM_DIMS, activation='relu', input_shape=(1,)))\n",
    "    for _ in range(NUM_LAYERS):\n",
    "        model.add(keras.layers.Dense(NUM_DIMS, activation='relu'))\n",
    "        # model.add(keras.layers.Dropout(DROPOUT_RATE))\n",
    "    model.add(keras.layers.Dense(1, activation='linear'))\n",
    "    model.compile(loss='mse', optimizer=keras.optimizers.Adam(LR), metrics=['mse'])\n",
    "\n",
    "    return model\n",
    "\n",
    "\n",
    "def train_model(model, x_train, y_train, x_test, y_test, epochs = 10, batch_size = 32):\n",
    "    history = model.fit(x_train, y_train, validation_data = (x_test, y_test), epochs = epochs, batch_size = batch_size\n",
    "                        , callbacks = [\n",
    "        # keras.callbacks.EarlyStopping(monitor = 'val_loss', patience = 3), \n",
    "        keras.callbacks.TensorBoard(log_dir = 'logs/{}'.format(datetime.datetime.now().strftime(\"%Y%m%d-%H%M%S\")))])\n",
    "    return history\n",
    "\n",
    "\n",
    "use_hypermodel = True\n",
    "\n",
    "\n",
    "# Create the model\n",
    "tuner = kt.Hyperband(create_hypermodel,\n",
    "                        objective='mse',\n",
    "                        max_epochs=10,\n",
    "                        factor=3,\n",
    "                        directory='my_dir',\n",
    "                        project_name='intro_to_kt-log')\n"
   ]
  },
  {
   "cell_type": "code",
   "execution_count": null,
   "metadata": {},
   "outputs": [],
   "source": [
    "# Train the model\n",
    "if use_hypermodel:\n",
    "    tuner.search(x_train, y_train, epochs=10, validation_data=(x_test, y_test))\n",
    "    best_hps = tuner.get_best_hyperparameters()[0]\n",
    "    print('Best hyperparameters:', best_hps.values)\n",
    "\n",
    "    model = tuner.hypermodel.build(best_hps)\n",
    "    history = train_model(model, x_train, y_train, x_test, y_test, epochs = best_hps.values['tuner/epochs'])\n",
    "\n",
    "else:\n",
    "    history = train_model(model, x_train, y_train, x_test, y_test)\n",
    "\n",
    "\n",
    "# Evaluate the model\n",
    "# test_acc = model.evaluate(x_test,  y_test, verbose=2)\n",
    "\n",
    "# print('\\nTest accuracy:', test_acc)\n"
   ]
  },
  {
   "cell_type": "code",
   "execution_count": null,
   "metadata": {},
   "outputs": [],
   "source": [
    "# Show the evaluation results\n",
    "# with two subplots: one for the direct comparison of the predicted and the actual values\n",
    "# and one for the error distribution\n",
    "fig, (ax1, ax2) = plt.subplots(1, 2, figsize=(20, 10))\n",
    "\n",
    "# Plot the predicted and the actual values\n",
    "ax1.plot(x_test, y_test, label='Actual')\n",
    "ax1.plot(x_test, model.predict(x_test), label='Predicted')\n",
    "ax1.set_title('Actual vs. predicted values')\n",
    "ax1.legend()\n",
    "\n",
    "# Plot the error distribution\n",
    "error = np.abs(model.predict(x_test).T - y_test)\n",
    "ax2.plot(x_test, error.T, label='Error')\n",
    "ax2.set_title('Error distribution')\n",
    "ax2.set_xlabel('Error')\n",
    "ax2.set_ylabel('Count')\n",
    "\n",
    "plt.show()"
   ]
  },
  {
   "cell_type": "code",
   "execution_count": null,
   "metadata": {},
   "outputs": [],
   "source": [
    "model.summary()"
   ]
  },
  {
   "cell_type": "code",
   "execution_count": null,
   "metadata": {},
   "outputs": [],
   "source": [
    "%load_ext tensorboard\n",
    "%tensorboard --logdir logs"
   ]
  },
  {
   "cell_type": "code",
   "execution_count": null,
   "metadata": {},
   "outputs": [],
   "source": [
    "!kill 30058"
   ]
  },
  {
   "cell_type": "code",
   "execution_count": null,
   "metadata": {},
   "outputs": [],
   "source": []
  }
 ],
 "metadata": {
  "kernelspec": {
   "display_name": "tf",
   "language": "python",
   "name": "python3"
  },
  "language_info": {
   "codemirror_mode": {
    "name": "ipython",
    "version": 3
   },
   "file_extension": ".py",
   "mimetype": "text/x-python",
   "name": "python",
   "nbconvert_exporter": "python",
   "pygments_lexer": "ipython3",
   "version": "3.9.16"
  },
  "orig_nbformat": 4,
  "vscode": {
   "interpreter": {
    "hash": "fd80750b708a6aba2d2b57cfcfef0357214d12dfab6f68e529e49e4509243b29"
   }
  }
 },
 "nbformat": 4,
 "nbformat_minor": 2
}
